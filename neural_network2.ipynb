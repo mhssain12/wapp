{
  "nbformat": 4,
  "nbformat_minor": 0,
  "metadata": {
    "kernelspec": {
      "name": "python3",
      "display_name": "Python 3"
    },
    "language_info": {
      "codemirror_mode": {
        "name": "ipython",
        "version": 3
      },
      "file_extension": ".py",
      "mimetype": "text/x-python",
      "name": "python",
      "nbconvert_exporter": "python",
      "pygments_lexer": "ipython3",
      "version": "3.7.3"
    },
    "colab": {
      "name": "neural_network2.ipynb",
      "provenance": [],
      "toc_visible": true,
      "machine_shape": "hm",
      "include_colab_link": true
    },
    "accelerator": "GPU"
  },
  "cells": [
    {
      "cell_type": "markdown",
      "metadata": {
        "id": "view-in-github",
        "colab_type": "text"
      },
      "source": [
        "<a href=\"https://colab.research.google.com/github/mhssain12/wapp/blob/master/neural_network2.ipynb\" target=\"_parent\"><img src=\"https://colab.research.google.com/assets/colab-badge.svg\" alt=\"Open In Colab\"/></a>"
      ]
    },
    {
      "cell_type": "code",
      "metadata": {
        "id": "ZT_ShKOgG5zQ",
        "colab_type": "code",
        "colab": {}
      },
      "source": [
        "import pandas as pd\n",
        "import numpy as np\n",
        "import datetime\n",
        "#import dateuntil\n",
        "#import pandas\n",
        "import csv\n",
        "from pandas import DataFrame\n",
        "import matplotlib.pyplot as plt\n",
        "from matplotlib.dates import DateFormatter\n",
        "import matplotlib.dates as mdates\n",
        "from sklearn.preprocessing import MinMaxScaler\n",
        "#data = pd.read_csv('solar irradiance data.csv')\n",
        "#irradiance=pd.read_csv('irradiance.csv', parse_dates=[\"Date\"], index_col=\"Date\")\n",
        "#irradiance['Date'] = pd.to_date(irradiance['Date'])\n",
        "\n",
        "\n",
        "import tensorflow as tf\n"
      ],
      "execution_count": 0,
      "outputs": []
    },
    {
      "cell_type": "code",
      "metadata": {
        "id": "iPj-UsW_qpYj",
        "colab_type": "code",
        "colab": {}
      },
      "source": [
        "# !pip install tf-nightly-gpu-2.0-preview"
      ],
      "execution_count": 0,
      "outputs": []
    },
    {
      "cell_type": "code",
      "metadata": {
        "id": "xqnm3rYHxwpB",
        "colab_type": "code",
        "outputId": "aee597e9-cd88-4fb1-e9fa-393cb23fe517",
        "colab": {
          "base_uri": "https://localhost:8080/",
          "height": 35
        }
      },
      "source": [
        "import tensorflow as tf\n",
        "tf.test.gpu_device_name()"
      ],
      "execution_count": 232,
      "outputs": [
        {
          "output_type": "execute_result",
          "data": {
            "text/plain": [
              "'/device:GPU:0'"
            ]
          },
          "metadata": {
            "tags": []
          },
          "execution_count": 232
        }
      ]
    },
    {
      "cell_type": "code",
      "metadata": {
        "id": "6HWcfpO81wE8",
        "colab_type": "code",
        "colab": {}
      },
      "source": [
        "# drive.mount(\"/content/drive\", force_remount=True)"
      ],
      "execution_count": 0,
      "outputs": []
    },
    {
      "cell_type": "code",
      "metadata": {
        "id": "2LhIBj6k1xrE",
        "colab_type": "code",
        "outputId": "ab24d0d9-3657-49dd-c824-0597d54a4f27",
        "colab": {
          "base_uri": "https://localhost:8080/",
          "height": 35
        }
      },
      "source": [
        "from google.colab import drive\n",
        "drive.mount('/content/drive')\n",
        "\n"
      ],
      "execution_count": 234,
      "outputs": [
        {
          "output_type": "stream",
          "text": [
            "Drive already mounted at /content/drive; to attempt to forcibly remount, call drive.mount(\"/content/drive\", force_remount=True).\n"
          ],
          "name": "stdout"
        }
      ]
    },
    {
      "cell_type": "code",
      "metadata": {
        "id": "AeAPHZXtyXhF",
        "colab_type": "code",
        "colab": {}
      },
      "source": [
        "# # from tensorflow.python.client import device_lib\n",
        "# # device_lib.list_local_devices()\n",
        "# drive.mount(\"/content/drive\", force_remount=True)\n"
      ],
      "execution_count": 0,
      "outputs": []
    },
    {
      "cell_type": "code",
      "metadata": {
        "id": "yHEItyM-zMKX",
        "colab_type": "code",
        "colab": {}
      },
      "source": [
        "# !cat /proc/meminfo\n",
        "# !cat /proc/cpuinfo"
      ],
      "execution_count": 0,
      "outputs": []
    },
    {
      "cell_type": "code",
      "metadata": {
        "id": "-IulvyeDG5zV",
        "colab_type": "code",
        "colab": {}
      },
      "source": [
        "from tensorflow.python.keras.models import Sequential\n",
        "from tensorflow.python.keras.layers import Input, Dense, GRU, Embedding\n",
        "from tensorflow.python.keras.optimizers import RMSprop\n",
        "from tensorflow.python.keras.callbacks import EarlyStopping, ModelCheckpoint, TensorBoard, ReduceLROnPlateau"
      ],
      "execution_count": 0,
      "outputs": []
    },
    {
      "cell_type": "code",
      "metadata": {
        "id": "NTSkKK3cG5zX",
        "colab_type": "code",
        "colab": {}
      },
      "source": [
        "# columns = pd.MultiIndex.from_product([['SRRL', 'NVTFIR', 'STAC', 'NFC', 'SUA'], ['W/m^2', 'Temp']])\n",
        "# irradiance=pd.read_csv(\"/content/SRRL.csv\") \n",
        "irradiance=pd.read_csv(\"/content/drive/My Drive/MLproject/SRRL.csv\") "
      ],
      "execution_count": 0,
      "outputs": []
    },
    {
      "cell_type": "code",
      "metadata": {
        "id": "3oT21dcGG5za",
        "colab_type": "code",
        "outputId": "3a977971-5ddc-4c1b-908b-98fcda220308",
        "colab": {
          "base_uri": "https://localhost:8080/",
          "height": 35
        }
      },
      "source": [
        "tf.__version__"
      ],
      "execution_count": 238,
      "outputs": [
        {
          "output_type": "execute_result",
          "data": {
            "text/plain": [
              "'1.15.0'"
            ]
          },
          "metadata": {
            "tags": []
          },
          "execution_count": 238
        }
      ]
    },
    {
      "cell_type": "code",
      "metadata": {
        "id": "SDou_9mKG5z9",
        "colab_type": "code",
        "colab": {}
      },
      "source": [
        "# with open('/content/dataonly.csv', newline='') as csvfile:\n",
        "with open('/content/drive/My Drive/MLproject/dataonly.csv', newline='') as csvfile:\n",
        "    data = list(csv.reader(csvfile))\n",
        "    \n",
        "#data.shape()"
      ],
      "execution_count": 0,
      "outputs": []
    },
    {
      "cell_type": "code",
      "metadata": {
        "id": "yUTxv1FfG50C",
        "colab_type": "code",
        "colab": {}
      },
      "source": [
        "# irr= pd.DataFrame(pd.read_csv('SRRL.csv'))\n",
        "irradiance.set_index(['Date', 'Time'], inplace=True)\n"
      ],
      "execution_count": 0,
      "outputs": []
    },
    {
      "cell_type": "code",
      "metadata": {
        "id": "t9OPaJjHG50I",
        "colab_type": "code",
        "colab": {}
      },
      "source": [
        "irradiance.head(5)\n",
        "index=irradiance.index\n",
        "columns = pd.MultiIndex.from_product([['SRRL','NVTFIR','STAC','NFC','SUA'], ['W/m^2','Temp']])\n",
        "# irr=np.array(pd.read_csv(\"dataonly.csv\"))\n",
        "irr_data = pd.DataFrame(data, index=index, columns=columns)\n"
      ],
      "execution_count": 0,
      "outputs": []
    },
    {
      "cell_type": "code",
      "metadata": {
        "id": "UcYFASmhG50N",
        "colab_type": "code",
        "outputId": "26a40023-b740-4105-8fa6-9bf14d02d26d",
        "colab": {
          "base_uri": "https://localhost:8080/",
          "height": 35
        }
      },
      "source": [
        "irr_data['SRRL']['W/m^2']['11/20/2018'].shape"
      ],
      "execution_count": 242,
      "outputs": [
        {
          "output_type": "execute_result",
          "data": {
            "text/plain": [
              "(1440,)"
            ]
          },
          "metadata": {
            "tags": []
          },
          "execution_count": 242
        }
      ]
    },
    {
      "cell_type": "code",
      "metadata": {
        "id": "OBtkDQA4G50S",
        "colab_type": "code",
        "colab": {}
      },
      "source": [
        "irr_data.head(5)\n",
        "#ealth_data.shape\n",
        "\n",
        "irr_data.drop(('STAC', 'W/m^2'), axis=1, inplace=True)\n",
        "irr_data.drop(('STAC', 'Temp'), axis=1, inplace=True)\n",
        "irr_data.drop(('NFC', 'W/m^2'), axis=1, inplace=True)\n",
        "irr_data.drop(('NFC', 'Temp'), axis=1, inplace=True)\n",
        "irr_data.drop(('SUA', 'Temp'), axis=1, inplace=True)\n",
        "irr_data.drop(('SUA', 'W/m^2'), axis=1, inplace=True)\n",
        "irr_data.drop(('NVTFIR', 'W/m^2'), axis=1, inplace=True)\n",
        "irr_data.drop(('NVTFIR', 'Temp'), axis=1, inplace=True)\n",
        "# irr_data.drop(('SRRL', 'Temp'), axis=1, inplace=True)\n"
      ],
      "execution_count": 0,
      "outputs": []
    },
    {
      "cell_type": "code",
      "metadata": {
        "id": "fJDm-S9AG50Y",
        "colab_type": "code",
        "outputId": "425c34f4-efda-441c-bc63-073d5037f51a",
        "colab": {
          "base_uri": "https://localhost:8080/",
          "height": 181
        }
      },
      "source": [
        "df=irr_data.astype(float)\n",
        "df['SRRL']['W/m^2'].describe()"
      ],
      "execution_count": 244,
      "outputs": [
        {
          "output_type": "execute_result",
          "data": {
            "text/plain": [
              "count    527040.000000\n",
              "mean        191.351316\n",
              "std         285.610154\n",
              "min          -4.547070\n",
              "25%          -0.637054\n",
              "50%           4.941690\n",
              "75%         321.226000\n",
              "max        1473.880000\n",
              "Name: W/m^2, dtype: float64"
            ]
          },
          "metadata": {
            "tags": []
          },
          "execution_count": 244
        }
      ]
    },
    {
      "cell_type": "code",
      "metadata": {
        "id": "rlBn1Gc6G50e",
        "colab_type": "code",
        "colab": {}
      },
      "source": [
        "#df['NVTFIR']['W/m^2'].describe()\n"
      ],
      "execution_count": 0,
      "outputs": []
    },
    {
      "cell_type": "code",
      "metadata": {
        "id": "iCOa24XuG50j",
        "colab_type": "code",
        "colab": {
          "base_uri": "https://localhost:8080/",
          "height": 359
        },
        "outputId": "3f28e0a2-a487-4fca-9b04-429e1a715bde"
      },
      "source": [
        "# df['SRRL']['Temp'].plot()\n",
        "df.plot(subplots=True)"
      ],
      "execution_count": 245,
      "outputs": [
        {
          "output_type": "execute_result",
          "data": {
            "text/plain": [
              "array([<matplotlib.axes._subplots.AxesSubplot object at 0x7fda8c7413c8>,\n",
              "       <matplotlib.axes._subplots.AxesSubplot object at 0x7fda0b6b39e8>],\n",
              "      dtype=object)"
            ]
          },
          "metadata": {
            "tags": []
          },
          "execution_count": 245
        },
        {
          "output_type": "display_data",
          "data": {
            "image/png": "[encoded data removed]",
            "text/plain": [
              "<Figure size 432x288 with 2 Axes>"
            ]
          },
          "metadata": {
            "tags": []
          }
        }
      ]
    },
    {
      "cell_type": "code",
      "metadata": {
        "id": "o6Hk85hyG50p",
        "colab_type": "code",
        "outputId": "658a27f9-be1a-47e1-e8dc-6c44bf50cd92",
        "colab": {
          "base_uri": "https://localhost:8080/",
          "height": 145
        }
      },
      "source": [
        "df.values\n",
        "# c1=df.columns.get_level_values(1)\n",
        "# c0=df.columns.get_level_values(0)\n",
        "# c1[0:7]\n",
        "# c0 [0:7]"
      ],
      "execution_count": 246,
      "outputs": [
        {
          "output_type": "execute_result",
          "data": {
            "text/plain": [
              "array([[-0.455377,  2.332   ],\n",
              "       [-0.416394,  2.331   ],\n",
              "       [-0.447358,  2.348   ],\n",
              "       ...,\n",
              "       [-1.17693 , 12.89    ],\n",
              "       [-1.17728 , 12.89    ],\n",
              "       [-1.17782 , 12.82    ]])"
            ]
          },
          "metadata": {
            "tags": []
          },
          "execution_count": 246
        }
      ]
    },
    {
      "cell_type": "code",
      "metadata": {
        "id": "_vrzVdybG50u",
        "colab_type": "code",
        "colab": {}
      },
      "source": [
        ""
      ],
      "execution_count": 0,
      "outputs": []
    },
    {
      "cell_type": "code",
      "metadata": {
        "id": "MMvfZhy7G50x",
        "colab_type": "code",
        "colab": {}
      },
      "source": [
        "l0 = irradiance.index.get_level_values(0)\n",
        "l1 = irradiance.index.get_level_values(1)\n",
        "# l1"
      ],
      "execution_count": 0,
      "outputs": []
    },
    {
      "cell_type": "code",
      "metadata": {
        "id": "ZNpEi0C_G501",
        "colab_type": "code",
        "colab": {}
      },
      "source": [
        "df=df.loc[pd.IndexSlice[:, l1[420:1009]], :]\n",
        "# df=df.loc[pd.IndexSlice[:, l1[420:901]], pd.IndexSlice[c0[0:7][:],c1[0:7][:]]]\n",
        "# df=df.loc[pd.IndexSlice[:, l1[420:901]], columns.get_level_values(1).isin({\"W/m^2\", \"Temp\"}) ]\n"
      ],
      "execution_count": 0,
      "outputs": []
    },
    {
      "cell_type": "code",
      "metadata": {
        "id": "xhNSFIVfG505",
        "colab_type": "code",
        "outputId": "4d3cf299-e8e3-4f00-eb0b-0856fc208bd4",
        "colab": {
          "base_uri": "https://localhost:8080/",
          "height": 258
        }
      },
      "source": [
        "df.tail()\n"
      ],
      "execution_count": 249,
      "outputs": [
        {
          "output_type": "execute_result",
          "data": {
            "text/html": [
              "<div>\n",
              "<style scoped>\n",
              "    .dataframe tbody tr th:only-of-type {\n",
              "        vertical-align: middle;\n",
              "    }\n",
              "\n",
              "    .dataframe tbody tr th {\n",
              "        vertical-align: top;\n",
              "    }\n",
              "\n",
              "    .dataframe thead tr th {\n",
              "        text-align: left;\n",
              "    }\n",
              "\n",
              "    .dataframe thead tr:last-of-type th {\n",
              "        text-align: right;\n",
              "    }\n",
              "</style>\n",
              "<table border=\"1\" class=\"dataframe\">\n",
              "  <thead>\n",
              "    <tr>\n",
              "      <th></th>\n",
              "      <th></th>\n",
              "      <th colspan=\"2\" halign=\"left\">SRRL</th>\n",
              "    </tr>\n",
              "    <tr>\n",
              "      <th></th>\n",
              "      <th></th>\n",
              "      <th>W/m^2</th>\n",
              "      <th>Temp</th>\n",
              "    </tr>\n",
              "    <tr>\n",
              "      <th>Date</th>\n",
              "      <th>Time</th>\n",
              "      <th></th>\n",
              "      <th></th>\n",
              "    </tr>\n",
              "  </thead>\n",
              "  <tbody>\n",
              "    <tr>\n",
              "      <th rowspan=\"5\" valign=\"top\">11/17/2019</th>\n",
              "      <th>16:44</th>\n",
              "      <td>5.19640</td>\n",
              "      <td>13.22</td>\n",
              "    </tr>\n",
              "    <tr>\n",
              "      <th>16:45</th>\n",
              "      <td>4.78308</td>\n",
              "      <td>13.19</td>\n",
              "    </tr>\n",
              "    <tr>\n",
              "      <th>16:46</th>\n",
              "      <td>4.66087</td>\n",
              "      <td>13.17</td>\n",
              "    </tr>\n",
              "    <tr>\n",
              "      <th>16:47</th>\n",
              "      <td>4.62474</td>\n",
              "      <td>13.17</td>\n",
              "    </tr>\n",
              "    <tr>\n",
              "      <th>16:48</th>\n",
              "      <td>4.51982</td>\n",
              "      <td>13.14</td>\n",
              "    </tr>\n",
              "  </tbody>\n",
              "</table>\n",
              "</div>"
            ],
            "text/plain": [
              "                     SRRL       \n",
              "                    W/m^2   Temp\n",
              "Date       Time                 \n",
              "11/17/2019 16:44  5.19640  13.22\n",
              "           16:45  4.78308  13.19\n",
              "           16:46  4.66087  13.17\n",
              "           16:47  4.62474  13.17\n",
              "           16:48  4.51982  13.14"
            ]
          },
          "metadata": {
            "tags": []
          },
          "execution_count": 249
        }
      ]
    },
    {
      "cell_type": "code",
      "metadata": {
        "scrolled": true,
        "id": "JC9yAW7ZG508",
        "colab_type": "code",
        "outputId": "7aab5074-59b8-49bc-b1c8-bbaf34434949",
        "colab": {
          "base_uri": "https://localhost:8080/",
          "height": 183
        }
      },
      "source": [
        "# df['Various', 'Min']=df.index.labels[1]\n",
        "# df['Various', 'Day']=df.index.labels[0]\n",
        "df['SRRL']['W/m^2']['11/17/2019'].shape\n",
        "k1=df.index.labels[0]\n",
        "l1 = irradiance.index.get_level_values(0)\n",
        "l1\n",
        "# l1"
      ],
      "execution_count": 250,
      "outputs": [
        {
          "output_type": "stream",
          "text": [
            "/usr/local/lib/python3.6/dist-packages/ipykernel_launcher.py:2: FutureWarning: .labels was deprecated in version 0.24.0. Use .codes instead.\n",
            "  \n"
          ],
          "name": "stderr"
        },
        {
          "output_type": "execute_result",
          "data": {
            "text/plain": [
              "Index(['11/17/2018', '11/17/2018', '11/17/2018', '11/17/2018', '11/17/2018',\n",
              "       '11/17/2018', '11/17/2018', '11/17/2018', '11/17/2018', '11/17/2018',\n",
              "       ...\n",
              "       '11/17/2019', '11/17/2019', '11/17/2019', '11/17/2019', '11/17/2019',\n",
              "       '11/17/2019', '11/17/2019', '11/17/2019', '11/17/2019', '11/17/2019'],\n",
              "      dtype='object', name='Date', length=527040)"
            ]
          },
          "metadata": {
            "tags": []
          },
          "execution_count": 250
        }
      ]
    },
    {
      "cell_type": "code",
      "metadata": {
        "scrolled": true,
        "id": "gVTfBJy3G50-",
        "colab_type": "code",
        "outputId": "8b3170d8-b237-4ad6-d03d-19586baaa984",
        "colab": {
          "base_uri": "https://localhost:8080/",
          "height": 258
        }
      },
      "source": [
        "df.head()"
      ],
      "execution_count": 251,
      "outputs": [
        {
          "output_type": "execute_result",
          "data": {
            "text/html": [
              "<div>\n",
              "<style scoped>\n",
              "    .dataframe tbody tr th:only-of-type {\n",
              "        vertical-align: middle;\n",
              "    }\n",
              "\n",
              "    .dataframe tbody tr th {\n",
              "        vertical-align: top;\n",
              "    }\n",
              "\n",
              "    .dataframe thead tr th {\n",
              "        text-align: left;\n",
              "    }\n",
              "\n",
              "    .dataframe thead tr:last-of-type th {\n",
              "        text-align: right;\n",
              "    }\n",
              "</style>\n",
              "<table border=\"1\" class=\"dataframe\">\n",
              "  <thead>\n",
              "    <tr>\n",
              "      <th></th>\n",
              "      <th></th>\n",
              "      <th colspan=\"2\" halign=\"left\">SRRL</th>\n",
              "    </tr>\n",
              "    <tr>\n",
              "      <th></th>\n",
              "      <th></th>\n",
              "      <th>W/m^2</th>\n",
              "      <th>Temp</th>\n",
              "    </tr>\n",
              "    <tr>\n",
              "      <th>Date</th>\n",
              "      <th>Time</th>\n",
              "      <th></th>\n",
              "      <th></th>\n",
              "    </tr>\n",
              "  </thead>\n",
              "  <tbody>\n",
              "    <tr>\n",
              "      <th rowspan=\"5\" valign=\"top\">11/17/2018</th>\n",
              "      <th>7:00</th>\n",
              "      <td>0.498039</td>\n",
              "      <td>-0.611</td>\n",
              "    </tr>\n",
              "    <tr>\n",
              "      <th>7:01</th>\n",
              "      <td>0.510486</td>\n",
              "      <td>-0.606</td>\n",
              "    </tr>\n",
              "    <tr>\n",
              "      <th>7:02</th>\n",
              "      <td>0.589566</td>\n",
              "      <td>-0.598</td>\n",
              "    </tr>\n",
              "    <tr>\n",
              "      <th>7:03</th>\n",
              "      <td>0.653437</td>\n",
              "      <td>-0.609</td>\n",
              "    </tr>\n",
              "    <tr>\n",
              "      <th>7:04</th>\n",
              "      <td>0.705921</td>\n",
              "      <td>-0.637</td>\n",
              "    </tr>\n",
              "  </tbody>\n",
              "</table>\n",
              "</div>"
            ],
            "text/plain": [
              "                     SRRL       \n",
              "                    W/m^2   Temp\n",
              "Date       Time                 \n",
              "11/17/2018 7:00  0.498039 -0.611\n",
              "           7:01  0.510486 -0.606\n",
              "           7:02  0.589566 -0.598\n",
              "           7:03  0.653437 -0.609\n",
              "           7:04  0.705921 -0.637"
            ]
          },
          "metadata": {
            "tags": []
          },
          "execution_count": 251
        }
      ]
    },
    {
      "cell_type": "code",
      "metadata": {
        "id": "D-suLLZLG51B",
        "colab_type": "code",
        "outputId": "4437bf7d-a539-4ec2-8f79-8b8354606d56",
        "colab": {
          "base_uri": "https://localhost:8080/",
          "height": 297
        }
      },
      "source": [
        "df['SRRL']['W/m^2']['11/20/2018'].shape\n",
        "df['SRRL']['W/m^2']['5/20/2019'].plot()"
      ],
      "execution_count": 252,
      "outputs": [
        {
          "output_type": "execute_result",
          "data": {
            "text/plain": [
              "<matplotlib.axes._subplots.AxesSubplot at 0x7fd9eb3c3668>"
            ]
          },
          "metadata": {
            "tags": []
          },
          "execution_count": 252
        },
        {
          "output_type": "display_data",
          "data": {
            "image/png": "[encoded data removed]",
            "text/plain": [
              "<Figure size 432x288 with 1 Axes>"
            ]
          },
          "metadata": {
            "tags": []
          }
        }
      ]
    },
    {
      "cell_type": "code",
      "metadata": {
        "id": "4s8gfq1fG51F",
        "colab_type": "code",
        "colab": {}
      },
      "source": [
        "#df['Various']['Day'].plot()"
      ],
      "execution_count": 0,
      "outputs": []
    },
    {
      "cell_type": "code",
      "metadata": {
        "id": "d9zoaqyjG51K",
        "colab_type": "code",
        "colab": {}
      },
      "source": [
        "target_station= 'SRRL'"
      ],
      "execution_count": 0,
      "outputs": []
    },
    {
      "cell_type": "code",
      "metadata": {
        "id": "ppB9Ze1vG51O",
        "colab_type": "code",
        "colab": {}
      },
      "source": [
        "target_names= ['W/m^2', 'Temp']\n",
        "\n",
        "# target_names= ['W/m^2']"
      ],
      "execution_count": 0,
      "outputs": []
    },
    {
      "cell_type": "code",
      "metadata": {
        "id": "UH_Zk1lNG51R",
        "colab_type": "code",
        "colab": {}
      },
      "source": [
        "shift_days=1\n",
        "shift_steps= shift_days*589  #Number of minutes"
      ],
      "execution_count": 0,
      "outputs": []
    },
    {
      "cell_type": "code",
      "metadata": {
        "id": "9Ezzg8HAG51T",
        "colab_type": "code",
        "colab": {}
      },
      "source": [
        "df_targets = df[target_station][target_names].shift(-shift_steps)"
      ],
      "execution_count": 0,
      "outputs": []
    },
    {
      "cell_type": "code",
      "metadata": {
        "id": "dcyr43yuG51V",
        "colab_type": "code",
        "outputId": "3f0b952c-8405-49f4-f16e-618b790905a2",
        "colab": {
          "base_uri": "https://localhost:8080/",
          "height": 437
        }
      },
      "source": [
        "df[target_station][target_names].head(shift_steps + 5)"
      ],
      "execution_count": 258,
      "outputs": [
        {
          "output_type": "execute_result",
          "data": {
            "text/html": [
              "<div>\n",
              "<style scoped>\n",
              "    .dataframe tbody tr th:only-of-type {\n",
              "        vertical-align: middle;\n",
              "    }\n",
              "\n",
              "    .dataframe tbody tr th {\n",
              "        vertical-align: top;\n",
              "    }\n",
              "\n",
              "    .dataframe thead th {\n",
              "        text-align: right;\n",
              "    }\n",
              "</style>\n",
              "<table border=\"1\" class=\"dataframe\">\n",
              "  <thead>\n",
              "    <tr style=\"text-align: right;\">\n",
              "      <th></th>\n",
              "      <th></th>\n",
              "      <th>W/m^2</th>\n",
              "      <th>Temp</th>\n",
              "    </tr>\n",
              "    <tr>\n",
              "      <th>Date</th>\n",
              "      <th>Time</th>\n",
              "      <th></th>\n",
              "      <th></th>\n",
              "    </tr>\n",
              "  </thead>\n",
              "  <tbody>\n",
              "    <tr>\n",
              "      <th rowspan=\"5\" valign=\"top\">11/17/2018</th>\n",
              "      <th>7:00</th>\n",
              "      <td>0.498039</td>\n",
              "      <td>-0.611</td>\n",
              "    </tr>\n",
              "    <tr>\n",
              "      <th>7:01</th>\n",
              "      <td>0.510486</td>\n",
              "      <td>-0.606</td>\n",
              "    </tr>\n",
              "    <tr>\n",
              "      <th>7:02</th>\n",
              "      <td>0.589566</td>\n",
              "      <td>-0.598</td>\n",
              "    </tr>\n",
              "    <tr>\n",
              "      <th>7:03</th>\n",
              "      <td>0.653437</td>\n",
              "      <td>-0.609</td>\n",
              "    </tr>\n",
              "    <tr>\n",
              "      <th>7:04</th>\n",
              "      <td>0.705921</td>\n",
              "      <td>-0.637</td>\n",
              "    </tr>\n",
              "    <tr>\n",
              "      <th>...</th>\n",
              "      <th>...</th>\n",
              "      <td>...</td>\n",
              "      <td>...</td>\n",
              "    </tr>\n",
              "    <tr>\n",
              "      <th rowspan=\"5\" valign=\"top\">11/18/2018</th>\n",
              "      <th>7:00</th>\n",
              "      <td>28.519400</td>\n",
              "      <td>-6.983</td>\n",
              "    </tr>\n",
              "    <tr>\n",
              "      <th>7:01</th>\n",
              "      <td>30.686500</td>\n",
              "      <td>-6.957</td>\n",
              "    </tr>\n",
              "    <tr>\n",
              "      <th>7:02</th>\n",
              "      <td>33.135300</td>\n",
              "      <td>-6.914</td>\n",
              "    </tr>\n",
              "    <tr>\n",
              "      <th>7:03</th>\n",
              "      <td>35.501700</td>\n",
              "      <td>-6.771</td>\n",
              "    </tr>\n",
              "    <tr>\n",
              "      <th>7:04</th>\n",
              "      <td>37.631700</td>\n",
              "      <td>-6.724</td>\n",
              "    </tr>\n",
              "  </tbody>\n",
              "</table>\n",
              "<p>594 rows × 2 columns</p>\n",
              "</div>"
            ],
            "text/plain": [
              "                     W/m^2   Temp\n",
              "Date       Time                  \n",
              "11/17/2018 7:00   0.498039 -0.611\n",
              "           7:01   0.510486 -0.606\n",
              "           7:02   0.589566 -0.598\n",
              "           7:03   0.653437 -0.609\n",
              "           7:04   0.705921 -0.637\n",
              "...                    ...    ...\n",
              "11/18/2018 7:00  28.519400 -6.983\n",
              "           7:01  30.686500 -6.957\n",
              "           7:02  33.135300 -6.914\n",
              "           7:03  35.501700 -6.771\n",
              "           7:04  37.631700 -6.724\n",
              "\n",
              "[594 rows x 2 columns]"
            ]
          },
          "metadata": {
            "tags": []
          },
          "execution_count": 258
        }
      ]
    },
    {
      "cell_type": "code",
      "metadata": {
        "id": "t3DkaL1EG51b",
        "colab_type": "code",
        "outputId": "1b07d5b8-3e61-4162-de02-c277c7bae35f",
        "colab": {
          "base_uri": "https://localhost:8080/",
          "height": 228
        }
      },
      "source": [
        "df_targets.head(5)"
      ],
      "execution_count": 259,
      "outputs": [
        {
          "output_type": "execute_result",
          "data": {
            "text/html": [
              "<div>\n",
              "<style scoped>\n",
              "    .dataframe tbody tr th:only-of-type {\n",
              "        vertical-align: middle;\n",
              "    }\n",
              "\n",
              "    .dataframe tbody tr th {\n",
              "        vertical-align: top;\n",
              "    }\n",
              "\n",
              "    .dataframe thead th {\n",
              "        text-align: right;\n",
              "    }\n",
              "</style>\n",
              "<table border=\"1\" class=\"dataframe\">\n",
              "  <thead>\n",
              "    <tr style=\"text-align: right;\">\n",
              "      <th></th>\n",
              "      <th></th>\n",
              "      <th>W/m^2</th>\n",
              "      <th>Temp</th>\n",
              "    </tr>\n",
              "    <tr>\n",
              "      <th>Date</th>\n",
              "      <th>Time</th>\n",
              "      <th></th>\n",
              "      <th></th>\n",
              "    </tr>\n",
              "  </thead>\n",
              "  <tbody>\n",
              "    <tr>\n",
              "      <th rowspan=\"5\" valign=\"top\">11/17/2018</th>\n",
              "      <th>7:00</th>\n",
              "      <td>28.5194</td>\n",
              "      <td>-6.983</td>\n",
              "    </tr>\n",
              "    <tr>\n",
              "      <th>7:01</th>\n",
              "      <td>30.6865</td>\n",
              "      <td>-6.957</td>\n",
              "    </tr>\n",
              "    <tr>\n",
              "      <th>7:02</th>\n",
              "      <td>33.1353</td>\n",
              "      <td>-6.914</td>\n",
              "    </tr>\n",
              "    <tr>\n",
              "      <th>7:03</th>\n",
              "      <td>35.5017</td>\n",
              "      <td>-6.771</td>\n",
              "    </tr>\n",
              "    <tr>\n",
              "      <th>7:04</th>\n",
              "      <td>37.6317</td>\n",
              "      <td>-6.724</td>\n",
              "    </tr>\n",
              "  </tbody>\n",
              "</table>\n",
              "</div>"
            ],
            "text/plain": [
              "                   W/m^2   Temp\n",
              "Date       Time                \n",
              "11/17/2018 7:00  28.5194 -6.983\n",
              "           7:01  30.6865 -6.957\n",
              "           7:02  33.1353 -6.914\n",
              "           7:03  35.5017 -6.771\n",
              "           7:04  37.6317 -6.724"
            ]
          },
          "metadata": {
            "tags": []
          },
          "execution_count": 259
        }
      ]
    },
    {
      "cell_type": "code",
      "metadata": {
        "id": "XfTxSItoG51d",
        "colab_type": "code",
        "outputId": "f11e6e72-7e72-4c06-f12c-9bd5798f2c06",
        "colab": {
          "base_uri": "https://localhost:8080/",
          "height": 228
        }
      },
      "source": [
        "df_targets.tail()"
      ],
      "execution_count": 260,
      "outputs": [
        {
          "output_type": "execute_result",
          "data": {
            "text/html": [
              "<div>\n",
              "<style scoped>\n",
              "    .dataframe tbody tr th:only-of-type {\n",
              "        vertical-align: middle;\n",
              "    }\n",
              "\n",
              "    .dataframe tbody tr th {\n",
              "        vertical-align: top;\n",
              "    }\n",
              "\n",
              "    .dataframe thead th {\n",
              "        text-align: right;\n",
              "    }\n",
              "</style>\n",
              "<table border=\"1\" class=\"dataframe\">\n",
              "  <thead>\n",
              "    <tr style=\"text-align: right;\">\n",
              "      <th></th>\n",
              "      <th></th>\n",
              "      <th>W/m^2</th>\n",
              "      <th>Temp</th>\n",
              "    </tr>\n",
              "    <tr>\n",
              "      <th>Date</th>\n",
              "      <th>Time</th>\n",
              "      <th></th>\n",
              "      <th></th>\n",
              "    </tr>\n",
              "  </thead>\n",
              "  <tbody>\n",
              "    <tr>\n",
              "      <th rowspan=\"5\" valign=\"top\">11/17/2019</th>\n",
              "      <th>16:44</th>\n",
              "      <td>NaN</td>\n",
              "      <td>NaN</td>\n",
              "    </tr>\n",
              "    <tr>\n",
              "      <th>16:45</th>\n",
              "      <td>NaN</td>\n",
              "      <td>NaN</td>\n",
              "    </tr>\n",
              "    <tr>\n",
              "      <th>16:46</th>\n",
              "      <td>NaN</td>\n",
              "      <td>NaN</td>\n",
              "    </tr>\n",
              "    <tr>\n",
              "      <th>16:47</th>\n",
              "      <td>NaN</td>\n",
              "      <td>NaN</td>\n",
              "    </tr>\n",
              "    <tr>\n",
              "      <th>16:48</th>\n",
              "      <td>NaN</td>\n",
              "      <td>NaN</td>\n",
              "    </tr>\n",
              "  </tbody>\n",
              "</table>\n",
              "</div>"
            ],
            "text/plain": [
              "                  W/m^2  Temp\n",
              "Date       Time              \n",
              "11/17/2019 16:44    NaN   NaN\n",
              "           16:45    NaN   NaN\n",
              "           16:46    NaN   NaN\n",
              "           16:47    NaN   NaN\n",
              "           16:48    NaN   NaN"
            ]
          },
          "metadata": {
            "tags": []
          },
          "execution_count": 260
        }
      ]
    },
    {
      "cell_type": "code",
      "metadata": {
        "id": "SZDmNvIEG51g",
        "colab_type": "code",
        "colab": {}
      },
      "source": [
        "x_data = df.values[0:-shift_steps]\n",
        "\n",
        "# x_data.plot()"
      ],
      "execution_count": 0,
      "outputs": []
    },
    {
      "cell_type": "code",
      "metadata": {
        "id": "mvsA4c4GG51j",
        "colab_type": "code",
        "outputId": "1bb266ba-ed5c-4332-fd18-86360dcaa5d0",
        "colab": {
          "base_uri": "https://localhost:8080/",
          "height": 54
        }
      },
      "source": [
        "print(type(x_data))\n",
        "print(\"Shape:\", x_data.shape)"
      ],
      "execution_count": 262,
      "outputs": [
        {
          "output_type": "stream",
          "text": [
            "<class 'numpy.ndarray'>\n",
            "Shape: (214985, 2)\n"
          ],
          "name": "stdout"
        }
      ]
    },
    {
      "cell_type": "code",
      "metadata": {
        "id": "5q-rP79iG51n",
        "colab_type": "code",
        "colab": {}
      },
      "source": [
        "y_data = df_targets.values[:-shift_steps]"
      ],
      "execution_count": 0,
      "outputs": []
    },
    {
      "cell_type": "code",
      "metadata": {
        "id": "guBcTPaNG51s",
        "colab_type": "code",
        "outputId": "262f2712-33b8-44a3-b222-699f094286e2",
        "colab": {
          "base_uri": "https://localhost:8080/",
          "height": 54
        }
      },
      "source": [
        "print(type(y_data))\n",
        "print(\"Shape:\", y_data.shape)"
      ],
      "execution_count": 264,
      "outputs": [
        {
          "output_type": "stream",
          "text": [
            "<class 'numpy.ndarray'>\n",
            "Shape: (214985, 2)\n"
          ],
          "name": "stdout"
        }
      ]
    },
    {
      "cell_type": "markdown",
      "metadata": {
        "id": "4COhpcVWG51u",
        "colab_type": "text"
      },
      "source": [
        "## This is the number of observations (aka. data-points or samples) in the data-set:"
      ]
    },
    {
      "cell_type": "code",
      "metadata": {
        "id": "Sjdz_mKeG51v",
        "colab_type": "code",
        "outputId": "9e7047d3-d1fc-4f4f-a8d6-54bfd43edfd6",
        "colab": {
          "base_uri": "https://localhost:8080/",
          "height": 35
        }
      },
      "source": [
        "num_data = len(x_data)\n",
        "num_data"
      ],
      "execution_count": 265,
      "outputs": [
        {
          "output_type": "execute_result",
          "data": {
            "text/plain": [
              "214985"
            ]
          },
          "metadata": {
            "tags": []
          },
          "execution_count": 265
        }
      ]
    },
    {
      "cell_type": "code",
      "metadata": {
        "id": "Wib02LE1G51x",
        "colab_type": "code",
        "colab": {}
      },
      "source": [
        "train_split = 0.9"
      ],
      "execution_count": 0,
      "outputs": []
    },
    {
      "cell_type": "markdown",
      "metadata": {
        "id": "_65C2WDJG51y",
        "colab_type": "text"
      },
      "source": [
        "## This is the number of observations in the training-set:"
      ]
    },
    {
      "cell_type": "code",
      "metadata": {
        "id": "xrBOiU_2G51z",
        "colab_type": "code",
        "outputId": "f33e1f26-c3db-40b5-d721-8a7a9c9c4859",
        "colab": {
          "base_uri": "https://localhost:8080/",
          "height": 35
        }
      },
      "source": [
        "num_train = int(train_split * num_data)\n",
        "num_train"
      ],
      "execution_count": 267,
      "outputs": [
        {
          "output_type": "execute_result",
          "data": {
            "text/plain": [
              "193486"
            ]
          },
          "metadata": {
            "tags": []
          },
          "execution_count": 267
        }
      ]
    },
    {
      "cell_type": "markdown",
      "metadata": {
        "id": "QV2sQNnbG511",
        "colab_type": "text"
      },
      "source": [
        "## This is the number of observations in the test-set:"
      ]
    },
    {
      "cell_type": "code",
      "metadata": {
        "id": "MxgMweQYG511",
        "colab_type": "code",
        "outputId": "43a7fa60-fcd0-428f-a645-ed822b46e521",
        "colab": {
          "base_uri": "https://localhost:8080/",
          "height": 35
        }
      },
      "source": [
        "num_test = num_data - num_train\n",
        "num_test"
      ],
      "execution_count": 268,
      "outputs": [
        {
          "output_type": "execute_result",
          "data": {
            "text/plain": [
              "21499"
            ]
          },
          "metadata": {
            "tags": []
          },
          "execution_count": 268
        }
      ]
    },
    {
      "cell_type": "markdown",
      "metadata": {
        "id": "RzIhSD7lG517",
        "colab_type": "text"
      },
      "source": [
        "##  These are the input-signals for the training- and test-sets:"
      ]
    },
    {
      "cell_type": "code",
      "metadata": {
        "id": "IFmUYekIG518",
        "colab_type": "code",
        "outputId": "9207f0db-0f3b-4325-bfa5-feb3c5dbe623",
        "colab": {
          "base_uri": "https://localhost:8080/",
          "height": 35
        }
      },
      "source": [
        "x_train = x_data[0:num_train]\n",
        "x_test = x_data[num_train:]\n",
        "len(x_train) + len(x_test)"
      ],
      "execution_count": 269,
      "outputs": [
        {
          "output_type": "execute_result",
          "data": {
            "text/plain": [
              "214985"
            ]
          },
          "metadata": {
            "tags": []
          },
          "execution_count": 269
        }
      ]
    },
    {
      "cell_type": "markdown",
      "metadata": {
        "id": "MaU_0P-6G51_",
        "colab_type": "text"
      },
      "source": [
        "## These are the output-signals for the training- and test-sets:"
      ]
    },
    {
      "cell_type": "code",
      "metadata": {
        "id": "gUCrMGljG51_",
        "colab_type": "code",
        "outputId": "26b64c8d-ea63-40a6-c132-ca795657e791",
        "colab": {
          "base_uri": "https://localhost:8080/",
          "height": 35
        }
      },
      "source": [
        "y_train = y_data[0:num_train]\n",
        "y_test = y_data[num_train:]\n",
        "len(y_train) + len(y_test)"
      ],
      "execution_count": 270,
      "outputs": [
        {
          "output_type": "execute_result",
          "data": {
            "text/plain": [
              "214985"
            ]
          },
          "metadata": {
            "tags": []
          },
          "execution_count": 270
        }
      ]
    },
    {
      "cell_type": "markdown",
      "metadata": {
        "id": "kubXKLHGG52C",
        "colab_type": "text"
      },
      "source": [
        "## This is the number of input-signals:"
      ]
    },
    {
      "cell_type": "code",
      "metadata": {
        "id": "L4yje_HzG52D",
        "colab_type": "code",
        "outputId": "d478faec-7fbc-4ae3-bb87-eec762330ea5",
        "colab": {
          "base_uri": "https://localhost:8080/",
          "height": 35
        }
      },
      "source": [
        "num_x_signals = x_data.shape[1]\n",
        "num_x_signals"
      ],
      "execution_count": 271,
      "outputs": [
        {
          "output_type": "execute_result",
          "data": {
            "text/plain": [
              "2"
            ]
          },
          "metadata": {
            "tags": []
          },
          "execution_count": 271
        }
      ]
    },
    {
      "cell_type": "markdown",
      "metadata": {
        "id": "goESGXfSG52E",
        "colab_type": "text"
      },
      "source": [
        "## This is the number of output-signals:"
      ]
    },
    {
      "cell_type": "code",
      "metadata": {
        "id": "727QiiGPG52F",
        "colab_type": "code",
        "outputId": "cfc501eb-d3dc-4e41-8e84-cf545a414296",
        "colab": {
          "base_uri": "https://localhost:8080/",
          "height": 35
        }
      },
      "source": [
        "num_y_signals = y_data.shape[1]\n",
        "num_y_signals"
      ],
      "execution_count": 272,
      "outputs": [
        {
          "output_type": "execute_result",
          "data": {
            "text/plain": [
              "2"
            ]
          },
          "metadata": {
            "tags": []
          },
          "execution_count": 272
        }
      ]
    },
    {
      "cell_type": "markdown",
      "metadata": {
        "id": "tTpy30TiG52H",
        "colab_type": "text"
      },
      "source": [
        "## Scaled data"
      ]
    },
    {
      "cell_type": "markdown",
      "metadata": {
        "id": "QrEnP3F1G52H",
        "colab_type": "text"
      },
      "source": [
        "#### The data-set contains a wide range of values:"
      ]
    },
    {
      "cell_type": "code",
      "metadata": {
        "id": "s-JHeN2JG52I",
        "colab_type": "code",
        "outputId": "89504935-59c3-4c76-8df0-ea97f66c8e4f",
        "colab": {
          "base_uri": "https://localhost:8080/",
          "height": 54
        }
      },
      "source": [
        "print(\"Min:\", np.min(x_train))\n",
        "print(\"Max:\", np.max(x_train))"
      ],
      "execution_count": 273,
      "outputs": [
        {
          "output_type": "stream",
          "text": [
            "Min: -20.97\n",
            "Max: 1473.88\n"
          ],
          "name": "stdout"
        }
      ]
    },
    {
      "cell_type": "markdown",
      "metadata": {
        "id": "qq53Ch56G52K",
        "colab_type": "text"
      },
      "source": [
        "The neural network works best on values roughly between -1 and 1, so we need to scale the data before it is being input to the neural network. We can use scikit-learn for this.\n",
        "\n",
        "We first create a scaler-object for the input-signals."
      ]
    },
    {
      "cell_type": "code",
      "metadata": {
        "id": "13jrtFrWG52N",
        "colab_type": "code",
        "colab": {}
      },
      "source": [
        "x_scaler = MinMaxScaler()"
      ],
      "execution_count": 0,
      "outputs": []
    },
    {
      "cell_type": "markdown",
      "metadata": {
        "id": "b3HD6UVqG52P",
        "colab_type": "text"
      },
      "source": [
        "## We then detect the range of values from the training-data and scale the training-data."
      ]
    },
    {
      "cell_type": "code",
      "metadata": {
        "id": "daFxFX8_G52Q",
        "colab_type": "code",
        "colab": {}
      },
      "source": [
        "x_train_scaled = x_scaler.fit_transform(x_train)"
      ],
      "execution_count": 0,
      "outputs": []
    },
    {
      "cell_type": "markdown",
      "metadata": {
        "id": "OBjijUVCG52R",
        "colab_type": "text"
      },
      "source": [
        "## part from a small rounding-error, the data has been scaled to be between 0 and 1."
      ]
    },
    {
      "cell_type": "code",
      "metadata": {
        "id": "RTcXEfRfG52S",
        "colab_type": "code",
        "outputId": "640aded7-c118-4152-eec6-b40b40fac86e",
        "colab": {
          "base_uri": "https://localhost:8080/",
          "height": 54
        }
      },
      "source": [
        "print(\"Min:\", np.min(x_train_scaled))\n",
        "print(\"Max:\", np.max(x_train_scaled))"
      ],
      "execution_count": 276,
      "outputs": [
        {
          "output_type": "stream",
          "text": [
            "Min: 0.0\n",
            "Max: 1.0\n"
          ],
          "name": "stdout"
        }
      ]
    },
    {
      "cell_type": "markdown",
      "metadata": {
        "id": "_rLwo-iCG52W",
        "colab_type": "text"
      },
      "source": [
        "##  We use the same scaler-object for the input-signals in the test-set."
      ]
    },
    {
      "cell_type": "code",
      "metadata": {
        "id": "wkW9OdBGG52X",
        "colab_type": "code",
        "colab": {}
      },
      "source": [
        "x_test_scaled = x_scaler.transform(x_test)"
      ],
      "execution_count": 0,
      "outputs": []
    },
    {
      "cell_type": "code",
      "metadata": {
        "id": "meq43wyPG52Z",
        "colab_type": "code",
        "colab": {}
      },
      "source": [
        "y_scaler = MinMaxScaler()\n",
        "y_train_scaled = y_scaler.fit_transform(y_train)\n",
        "y_test_scaled = y_scaler.transform(y_test)"
      ],
      "execution_count": 0,
      "outputs": []
    },
    {
      "cell_type": "markdown",
      "metadata": {
        "id": "wVAUgClAG52b",
        "colab_type": "text"
      },
      "source": [
        "## Data Generator"
      ]
    },
    {
      "cell_type": "markdown",
      "metadata": {
        "id": "_8_gDO8xG52c",
        "colab_type": "text"
      },
      "source": [
        "The data-set has now been prepared as 2-dimensional numpy arrays. The training-data has almost 300k observations, consisting of 20 input-signals and 3 output-signals.\n",
        "\n",
        "These are the array-shapes of the input and output data:"
      ]
    },
    {
      "cell_type": "code",
      "metadata": {
        "id": "1hBYud5aG52e",
        "colab_type": "code",
        "outputId": "09e2e86e-ceaf-4162-d4a7-522cc83ff09d",
        "colab": {
          "base_uri": "https://localhost:8080/",
          "height": 54
        }
      },
      "source": [
        "print(x_train_scaled.shape)\n",
        "print(y_train_scaled.shape)"
      ],
      "execution_count": 279,
      "outputs": [
        {
          "output_type": "stream",
          "text": [
            "(193486, 2)\n",
            "(193486, 2)\n"
          ],
          "name": "stdout"
        }
      ]
    },
    {
      "cell_type": "markdown",
      "metadata": {
        "id": "5ocCOh-HG52h",
        "colab_type": "text"
      },
      "source": [
        "Instead of training the Recurrent Neural Network on the complete sequences of almost 300k observations, we will use the following function to create a batch of shorter sub-sequences picked at random from the training-data."
      ]
    },
    {
      "cell_type": "code",
      "metadata": {
        "id": "2HdF_Y7OG52j",
        "colab_type": "code",
        "colab": {}
      },
      "source": [
        "def batch_generator(batch_size, sequence_length):\n",
        "    \"\"\"\n",
        "    Generator function for creating random batches of training-data.\n",
        "    \"\"\"\n",
        "\n",
        "    # Infinite loop.\n",
        "    while True:\n",
        "        # Allocate a new array for the batch of input-signals.\n",
        "        x_shape = (batch_size, sequence_length, num_x_signals)\n",
        "        x_batch = np.zeros(shape=x_shape, dtype=np.float16)\n",
        "\n",
        "        # Allocate a new array for the batch of output-signals.\n",
        "        y_shape = (batch_size, sequence_length, num_y_signals)\n",
        "        y_batch = np.zeros(shape=y_shape, dtype=np.float16)\n",
        "\n",
        "        # Fill the batch with random sequences of data.\n",
        "        for i in range(batch_size):\n",
        "            # Get a random start-index.\n",
        "            # This points somewhere into the training-data.\n",
        "            idx = np.random.randint(num_train - sequence_length)\n",
        "            \n",
        "            # Copy the sequences of data starting at this index.\n",
        "            x_batch[i] = x_train_scaled[idx:idx+sequence_length]\n",
        "            y_batch[i] = y_train_scaled[idx:idx+sequence_length]\n",
        "        \n",
        "        yield (x_batch, y_batch)\n",
        "        "
      ],
      "execution_count": 0,
      "outputs": []
    },
    {
      "cell_type": "code",
      "metadata": {
        "id": "llSuvQ_gzL2b",
        "colab_type": "code",
        "colab": {}
      },
      "source": [
        ""
      ],
      "execution_count": 0,
      "outputs": []
    },
    {
      "cell_type": "markdown",
      "metadata": {
        "id": "UEo9fL87G52m",
        "colab_type": "text"
      },
      "source": [
        "We will use a large batch-size so as to keep the GPU near 100% work-load. You may have to adjust this number depending on your GPU, its RAM and your choice of sequence_length below."
      ]
    },
    {
      "cell_type": "code",
      "metadata": {
        "id": "FnTXwrBCG56V",
        "colab_type": "code",
        "colab": {}
      },
      "source": [
        "batch_size = 100"
      ],
      "execution_count": 0,
      "outputs": []
    },
    {
      "cell_type": "markdown",
      "metadata": {
        "id": "_ZO1L-FTG6IM",
        "colab_type": "text"
      },
      "source": [
        "#### We will use a sequence-length of 80640, which means that each random sequence contains observations for 8 weeks. One time-step corresponds to one hour, so 24 x 7 time-steps corresponds to a week, and 24 x 7 x 8 corresponds to 8 weeks."
      ]
    },
    {
      "cell_type": "code",
      "metadata": {
        "id": "s9n5azGVG6IN",
        "colab_type": "code",
        "outputId": "a07da97c-7099-4cd6-8a54-8478e419a888",
        "colab": {
          "base_uri": "https://localhost:8080/",
          "height": 35
        }
      },
      "source": [
        "sequence_length = 589 * 7 * 5\n",
        "sequence_length"
      ],
      "execution_count": 282,
      "outputs": [
        {
          "output_type": "execute_result",
          "data": {
            "text/plain": [
              "20615"
            ]
          },
          "metadata": {
            "tags": []
          },
          "execution_count": 282
        }
      ]
    },
    {
      "cell_type": "markdown",
      "metadata": {
        "id": "d7eSKWeeG6IP",
        "colab_type": "text"
      },
      "source": [
        "## We then create the batch-generator."
      ]
    },
    {
      "cell_type": "code",
      "metadata": {
        "id": "5EdAuJ2gG6IQ",
        "colab_type": "code",
        "colab": {}
      },
      "source": [
        "generator = batch_generator(batch_size=batch_size,\n",
        "                            sequence_length=sequence_length)"
      ],
      "execution_count": 0,
      "outputs": []
    },
    {
      "cell_type": "markdown",
      "metadata": {
        "id": "PA_FXyKmG6IT",
        "colab_type": "text"
      },
      "source": [
        "We can then test the batch-generator to see if it works."
      ]
    },
    {
      "cell_type": "code",
      "metadata": {
        "id": "cbD5QRovG6IT",
        "colab_type": "code",
        "colab": {}
      },
      "source": [
        "x_batch, y_batch = next(generator)"
      ],
      "execution_count": 0,
      "outputs": []
    },
    {
      "cell_type": "markdown",
      "metadata": {
        "id": "FBdnfiOpG6IV",
        "colab_type": "text"
      },
      "source": [
        "This gives us a random batch of 256 sequences, each sequence having 80640 observations, and each observation having 8 input-signals and 3 output-signals."
      ]
    },
    {
      "cell_type": "code",
      "metadata": {
        "id": "8LPTc1VzG6IW",
        "colab_type": "code",
        "outputId": "bf82daf8-5dd7-4c89-dc29-95cb8ff6a323",
        "colab": {
          "base_uri": "https://localhost:8080/",
          "height": 54
        }
      },
      "source": [
        "print(x_batch.shape)\n",
        "print(y_batch.shape)"
      ],
      "execution_count": 285,
      "outputs": [
        {
          "output_type": "stream",
          "text": [
            "(100, 20615, 2)\n",
            "(100, 20615, 2)\n"
          ],
          "name": "stdout"
        }
      ]
    },
    {
      "cell_type": "markdown",
      "metadata": {
        "id": "TxDn9boOG6IY",
        "colab_type": "text"
      },
      "source": [
        "## We can plot one of the 20 input-signals as an example."
      ]
    },
    {
      "cell_type": "code",
      "metadata": {
        "id": "6afVStzcG6IY",
        "colab_type": "code",
        "outputId": "9423f632-3fa7-4bc7-c40c-b579efb46810",
        "colab": {
          "base_uri": "https://localhost:8080/",
          "height": 286
        }
      },
      "source": [
        "batch = 0   # First sequence in the batch.\n",
        "signal = 0  # First signal from the 20 input-signals.\n",
        "seq = x_batch[batch, :, signal]\n",
        "plt.plot(seq)"
      ],
      "execution_count": 286,
      "outputs": [
        {
          "output_type": "execute_result",
          "data": {
            "text/plain": [
              "[<matplotlib.lines.Line2D at 0x7fd9f75db048>]"
            ]
          },
          "metadata": {
            "tags": []
          },
          "execution_count": 286
        },
        {
          "output_type": "display_data",
          "data": {
            "image/png": "[encoded data removed]",
            "text/plain": [
              "<Figure size 432x288 with 1 Axes>"
            ]
          },
          "metadata": {
            "tags": []
          }
        }
      ]
    },
    {
      "cell_type": "markdown",
      "metadata": {
        "id": "fV9lYmvAG6Ic",
        "colab_type": "text"
      },
      "source": [
        "We can also plot one of the output-signals that we want the model to learn how to predict given all those 20 input signals."
      ]
    },
    {
      "cell_type": "code",
      "metadata": {
        "id": "Nmfx23yeG6If",
        "colab_type": "code",
        "outputId": "e79707c9-9a33-4c42-be2f-c46d1eafef33",
        "colab": {
          "base_uri": "https://localhost:8080/",
          "height": 286
        }
      },
      "source": [
        "seq = y_batch[batch, :, signal]\n",
        "plt.plot(seq)"
      ],
      "execution_count": 287,
      "outputs": [
        {
          "output_type": "execute_result",
          "data": {
            "text/plain": [
              "[<matplotlib.lines.Line2D at 0x7fda09a1b198>]"
            ]
          },
          "metadata": {
            "tags": []
          },
          "execution_count": 287
        },
        {
          "output_type": "display_data",
          "data": {
            "image/png": "[encoded data removed]",
            "text/plain": [
              "<Figure size 432x288 with 1 Axes>"
            ]
          },
          "metadata": {
            "tags": []
          }
        }
      ]
    },
    {
      "cell_type": "markdown",
      "metadata": {
        "id": "TlWiIKgfG6Ig",
        "colab_type": "text"
      },
      "source": [
        "## Validation Set"
      ]
    },
    {
      "cell_type": "markdown",
      "metadata": {
        "id": "eBVKOABAG6Ih",
        "colab_type": "text"
      },
      "source": [
        "The neural network trains quickly so we can easily run many training epochs. But then there is a risk of overfitting the model to the training-set so it does not generalize well to unseen data. We will therefore monitor the model's performance on the test-set after each epoch and only save the model's weights if the performance is improved on the test-set.\n",
        "\n",
        "The batch-generator randomly selects a batch of short sequences from the training-data and uses that during training. But for the validation-data we will instead run through the entire sequence from the test-set and measure the prediction accuracy on that entire sequence."
      ]
    },
    {
      "cell_type": "code",
      "metadata": {
        "id": "pwZXNImDG6Ii",
        "colab_type": "code",
        "outputId": "332dfa2e-31f6-4954-b3ca-1b3663c734bd",
        "colab": {
          "base_uri": "https://localhost:8080/",
          "height": 254
        }
      },
      "source": [
        "validation_data = (np.expand_dims(x_test_scaled, axis=0), np.expand_dims(y_test_scaled, axis=0))\n",
        "validation_data"
      ],
      "execution_count": 288,
      "outputs": [
        {
          "output_type": "execute_result",
          "data": {
            "text/plain": [
              "(array([[[0.52966009, 0.46890625],\n",
              "         [0.53009212, 0.47126736],\n",
              "         [0.5300616 , 0.47338542],\n",
              "         ...,\n",
              "         [0.001692  , 0.55416667],\n",
              "         [0.00153302, 0.55347222],\n",
              "         [0.00133879, 0.55329861]]]), array([[[0.51968198, 0.659375  ],\n",
              "         [0.51990511, 0.659375  ],\n",
              "         [0.5199397 , 0.65920139],\n",
              "         ...,\n",
              "         [0.00353232, 0.59270833],\n",
              "         [0.00350782, 0.59270833],\n",
              "         [0.00343666, 0.5921875 ]]]))"
            ]
          },
          "metadata": {
            "tags": []
          },
          "execution_count": 288
        }
      ]
    },
    {
      "cell_type": "markdown",
      "metadata": {
        "id": "eIruiqnBG6Ik",
        "colab_type": "text"
      },
      "source": [
        "## Create the Recurrent Neural Network"
      ]
    },
    {
      "cell_type": "markdown",
      "metadata": {
        "id": "4INj-WlzG6Im",
        "colab_type": "text"
      },
      "source": [
        "We are now ready to create the Recurrent Neural Network (RNN). We will use the Keras API for this because of its simplicity. See Tutorial #03-C for a tutorial on Keras and Tutorial #20 for more information on Recurrent Neural Networks."
      ]
    },
    {
      "cell_type": "code",
      "metadata": {
        "id": "3MDEnRTIG6Im",
        "colab_type": "code",
        "colab": {}
      },
      "source": [
        "model = Sequential()\n"
      ],
      "execution_count": 0,
      "outputs": []
    },
    {
      "cell_type": "markdown",
      "metadata": {
        "id": "P89FMCf-G6Ip",
        "colab_type": "text"
      },
      "source": [
        "We can now add a Gated Recurrent Unit (GRU) to the network. This will have 512 outputs for each time-step in the sequence.\n",
        "\n",
        "Note that because this is the first layer in the model, Keras needs to know the shape of its input, which is a batch of sequences of arbitrary length (indicated by None), where each observation has a number of input-signals (num_x_signals)."
      ]
    },
    {
      "cell_type": "code",
      "metadata": {
        "id": "ACa90i3FnL3Z",
        "colab_type": "code",
        "colab": {}
      },
      "source": [
        "# TOTAL_INPUTS_row=589 * 7 * 5\n",
        "TOTAL_INPUTS=2"
      ],
      "execution_count": 0,
      "outputs": []
    },
    {
      "cell_type": "code",
      "metadata": {
        "scrolled": true,
        "id": "-5qqhdQxG6Ip",
        "colab_type": "code",
        "colab": {}
      },
      "source": [
        "# model.add(Dense(units=256,\n",
        "#               return_sequences=True,\n",
        "#               input_shape=(None, num_x_signals,)))\n",
        "\n",
        "\n",
        "model.add(Dense(units= 520,\n",
        "              \n",
        "              input_shape=(None, num_x_signals,)))\n",
        "\n",
        "# model.add(Dense(units=None, input_shape=(None, num_x_signals,)))\n",
        "\n",
        "# Original one\n",
        "# model.add(Dense(units=512,\n",
        "              \n",
        "#               input_shape=(None, num_x_signals,)))\n",
        "\n",
        "# model.add(Dense(512,\n",
        "              \n",
        "#                input_dim=TOTAL_INPUTS))\n",
        "\n",
        "# model.add(Dense(units=256, input_dim=TOTAL_INPUTS, activation='relu', name='m1_hidden1'))"
      ],
      "execution_count": 0,
      "outputs": []
    },
    {
      "cell_type": "code",
      "metadata": {
        "id": "L75TtoNx2c0z",
        "colab_type": "code",
        "colab": {}
      },
      "source": [
        "model.add(Dense(256, activation='relu', name='m1_hidden1'))\n",
        "model.add(Dense(128, activation='relu', name='m1_hidden2'))\n",
        "model.add(Dense(64, activation='relu', name='m1_hidden3'))\n",
        "model.add(Dense(32, activation='relu', name='m1_hidden4'))\n",
        "model.add(Dense(10, activation='relu', name='m1_hidden5'))\n",
        "model.add(Dense(5, activation='relu', name='m1_hidden6'))\n",
        "\n",
        "# model.add(Dense(128, activation='relu', name='m1_hidden2'))\n",
        "# model.add(Dense(64, activation='relu', name='m1_hidden3'))\n",
        "# model.add(Dense(32, activation='relu', name='m1_hidden4'))\n",
        "# model.add(Dense(10, activation='relu', name='m1_hidden5'))"
      ],
      "execution_count": 0,
      "outputs": []
    },
    {
      "cell_type": "markdown",
      "metadata": {
        "id": "gQ0cPhj3G6Ir",
        "colab_type": "text"
      },
      "source": [
        "The GRU outputs a batch of sequences of 512 values. We want to predict 3 output-signals, so we add a fully-connected (or dense) layer which maps 512 values down to only 3 values.\n",
        "\n",
        "The output-signals in the data-set have been limited to be between 0 and 1 using a scaler-object. So we also limit the output of the neural network using the Sigmoid activation function, which squashes the output to be between 0 and 1."
      ]
    },
    {
      "cell_type": "code",
      "metadata": {
        "id": "AJszgCN9G6Is",
        "colab_type": "code",
        "colab": {}
      },
      "source": [
        "model.add(Dense(num_y_signals, activation='sigmoid'))"
      ],
      "execution_count": 0,
      "outputs": []
    },
    {
      "cell_type": "markdown",
      "metadata": {
        "id": "PD3PmfR0G6Iu",
        "colab_type": "text"
      },
      "source": [
        "A problem with using the Sigmoid activation function, is that we can now only output values in the same range as the training-data.\n",
        "\n",
        "For example, if the training-data only has temperatures between -20 and +30 degrees, then the scaler-object will map -20 to 0 and +30 to 1. So if we limit the output of the neural network to be between 0 and 1 using the Sigmoid function, this can only be mapped back to temperature values between -20 and +30.\n",
        "\n",
        "We can use a linear activation function on the output instead. This allows for the output to take on arbitrary values. It might work with the standard initialization for a simple network architecture, but for more complicated network architectures e.g. with more layers, it might be necessary to initialize the weights with smaller values to avoid NaN values during training. You may need to experiment with this to get it working."
      ]
    },
    {
      "cell_type": "code",
      "metadata": {
        "id": "1sMgdX9OG6U2",
        "colab_type": "code",
        "colab": {}
      },
      "source": [
        "if False:\n",
        "    from tensorflow.python.keras.initializers import RandomUniform\n",
        "\n",
        "    # Maybe use lower init-ranges.\n",
        "    init = RandomUniform(minval=-0.05, maxval=0.05)\n",
        "\n",
        "    model.add(Dense(num_y_signals,\n",
        "                    activation='linear',\n",
        "                    kernel_initializer=init))"
      ],
      "execution_count": 0,
      "outputs": []
    },
    {
      "cell_type": "markdown",
      "metadata": {
        "id": "ufx47tJNG6U5",
        "colab_type": "text"
      },
      "source": [
        "## Loss Function"
      ]
    },
    {
      "cell_type": "markdown",
      "metadata": {
        "id": "GwZpxDj5G6U6",
        "colab_type": "text"
      },
      "source": [
        "We will use Mean Squared Error (MSE) as the loss-function that will be minimized. This measures how closely the model's output matches the true output signals.\n",
        "\n",
        "However, at the beginning of a sequence, the model has only seen input-signals for a few time-steps, so its generated output may be very inaccurate. Using the loss-value for the early time-steps may cause the model to distort its later output. We therefore give the model a \"warmup-period\" of 50 time-steps where we don't use its accuracy in the loss-function, in hope of improving the accuracy for later time-steps."
      ]
    },
    {
      "cell_type": "code",
      "metadata": {
        "id": "c0BK1fdjG6U6",
        "colab_type": "code",
        "colab": {}
      },
      "source": [
        "warmup_steps = 50"
      ],
      "execution_count": 0,
      "outputs": []
    },
    {
      "cell_type": "code",
      "metadata": {
        "id": "P2WurxbNG6U9",
        "colab_type": "code",
        "colab": {}
      },
      "source": [
        "def loss_mse_warmup(y_true, y_pred):\n",
        "    \"\"\"\n",
        "    Calculate the Mean Squared Error between y_true and y_pred,\n",
        "    but ignore the beginning \"warmup\" part of the sequences.\n",
        "    \n",
        "    y_true is the desired output.\n",
        "    y_pred is the model's output.\n",
        "    \"\"\"\n",
        "\n",
        "    # The shape of both input tensors are:\n",
        "    # [batch_size, sequence_length, num_y_signals].\n",
        "\n",
        "    # Ignore the \"warmup\" parts of the sequences\n",
        "    # by taking slices of the tensors.\n",
        "    y_true_slice = y_true[:, warmup_steps:, :]\n",
        "    y_pred_slice = y_pred[:, warmup_steps:, :]\n",
        "\n",
        "    # These sliced tensors both have this shape:\n",
        "    # [batch_size, sequence_length - warmup_steps, num_y_signals]\n",
        "\n",
        "    # Calculate the MSE loss for each value in these tensors.\n",
        "    # This outputs a 3-rank tensor of the same shape.\n",
        "    loss = tf.losses.mean_squared_error(labels=y_true_slice,\n",
        "                                        predictions=y_pred_slice)\n",
        "\n",
        "    # Keras may reduce this across the first axis (the batch)\n",
        "    # but the semantics are unclear, so to be sure we use\n",
        "    # the loss across the entire tensor, we reduce it to a\n",
        "    # single scalar with the mean function.\n",
        "    loss_mean = tf.reduce_mean(loss)\n",
        "\n",
        "    return loss_mean"
      ],
      "execution_count": 0,
      "outputs": []
    },
    {
      "cell_type": "markdown",
      "metadata": {
        "id": "uRWyoPN3G6U_",
        "colab_type": "text"
      },
      "source": [
        "## Compile the model"
      ]
    },
    {
      "cell_type": "markdown",
      "metadata": {
        "id": "TA-3d-PIG6VA",
        "colab_type": "text"
      },
      "source": [
        "#### This is the optimizer and the beginning learning-rate that we will use."
      ]
    },
    {
      "cell_type": "code",
      "metadata": {
        "id": "t-LwZtx-G6VB",
        "colab_type": "code",
        "colab": {}
      },
      "source": [
        "optimizer = RMSprop(lr=1e-4)    #learning rate has been change to 1e-2 from 1e-3"
      ],
      "execution_count": 0,
      "outputs": []
    },
    {
      "cell_type": "markdown",
      "metadata": {
        "id": "sBsJs2iMG6VM",
        "colab_type": "text"
      },
      "source": [
        "### We then compile the Keras model so it is ready for training."
      ]
    },
    {
      "cell_type": "code",
      "metadata": {
        "id": "bdJm3OsXG6VM",
        "colab_type": "code",
        "colab": {}
      },
      "source": [
        "model.compile(loss=loss_mse_warmup, optimizer=optimizer, \n",
        "                metrics=['accuracy'])\n",
        "# model.compile(loss='sparse_categorical_crossentropy', optimizer=optimizer, \n",
        "#                 metrics=['accuracy'])\n"
      ],
      "execution_count": 0,
      "outputs": []
    },
    {
      "cell_type": "markdown",
      "metadata": {
        "id": "5jys_ovhG6VQ",
        "colab_type": "text"
      },
      "source": [
        "This is a very small model with only two layers. The output shape of (None, None, 3) means that the model will output a batch with an arbitrary number of sequences, each of which has an arbitrary number of observations, and each observation has 3 signals. This corresponds to the 3 target signals we want to predict."
      ]
    },
    {
      "cell_type": "code",
      "metadata": {
        "id": "hGCxGuRXG6VS",
        "colab_type": "code",
        "outputId": "a81e098f-56ea-4414-9d4c-cdcaf82bc49d",
        "colab": {
          "base_uri": "https://localhost:8080/",
          "height": 454
        }
      },
      "source": [
        "model.summary()\n"
      ],
      "execution_count": 299,
      "outputs": [
        {
          "output_type": "stream",
          "text": [
            "Model: \"sequential_2\"\n",
            "_________________________________________________________________\n",
            "Layer (type)                 Output Shape              Param #   \n",
            "=================================================================\n",
            "dense_4 (Dense)              (None, None, 520)         1560      \n",
            "_________________________________________________________________\n",
            "m1_hidden1 (Dense)           (None, None, 256)         133376    \n",
            "_________________________________________________________________\n",
            "m1_hidden2 (Dense)           (None, None, 128)         32896     \n",
            "_________________________________________________________________\n",
            "m1_hidden3 (Dense)           (None, None, 64)          8256      \n",
            "_________________________________________________________________\n",
            "m1_hidden4 (Dense)           (None, None, 32)          2080      \n",
            "_________________________________________________________________\n",
            "m1_hidden5 (Dense)           (None, None, 10)          330       \n",
            "_________________________________________________________________\n",
            "m1_hidden6 (Dense)           (None, None, 5)           55        \n",
            "_________________________________________________________________\n",
            "dense_5 (Dense)              (None, None, 2)           12        \n",
            "=================================================================\n",
            "Total params: 178,565\n",
            "Trainable params: 178,565\n",
            "Non-trainable params: 0\n",
            "_________________________________________________________________\n"
          ],
          "name": "stdout"
        }
      ]
    },
    {
      "cell_type": "markdown",
      "metadata": {
        "id": "jv96DWU3G6VY",
        "colab_type": "text"
      },
      "source": [
        "## Callback Functions"
      ]
    },
    {
      "cell_type": "markdown",
      "metadata": {
        "id": "3aEGBcfFG6VZ",
        "colab_type": "text"
      },
      "source": [
        "During training we want to save checkpoints and log the progress to TensorBoard so we create the appropriate callbacks for Keras.\n",
        "\n",
        "This is the callback for writing checkpoints during training."
      ]
    },
    {
      "cell_type": "code",
      "metadata": {
        "id": "ZMT2fqQEG6Va",
        "colab_type": "code",
        "colab": {}
      },
      "source": [
        "path_checkpoint = '23_checkpoint.keras'\n",
        "callback_checkpoint = ModelCheckpoint(filepath=path_checkpoint,\n",
        "                                      monitor='val_loss',\n",
        "                                      verbose=1,\n",
        "                                      save_weights_only=True,\n",
        "                                      save_best_only=True)"
      ],
      "execution_count": 0,
      "outputs": []
    },
    {
      "cell_type": "markdown",
      "metadata": {
        "id": "kPMZ2Hj1G6Vh",
        "colab_type": "text"
      },
      "source": [
        "This is the callback for stopping the optimization when performance worsens on the validation-set."
      ]
    },
    {
      "cell_type": "code",
      "metadata": {
        "id": "tIN_N7IBG6Vi",
        "colab_type": "code",
        "colab": {}
      },
      "source": [
        "callback_early_stopping = EarlyStopping(monitor='val_loss',\n",
        "                                        patience=30, verbose=1)   # changed patience from 5 to 15\n",
        "\n"
      ],
      "execution_count": 0,
      "outputs": []
    },
    {
      "cell_type": "markdown",
      "metadata": {
        "id": "jQrwwOcPG6Vl",
        "colab_type": "text"
      },
      "source": [
        "This is the callback for writing the TensorBoard log during training."
      ]
    },
    {
      "cell_type": "code",
      "metadata": {
        "id": "pmWV97QrG6Vl",
        "colab_type": "code",
        "colab": {}
      },
      "source": [
        "callback_tensorboard = TensorBoard(log_dir='./23_logs/',\n",
        "                                   histogram_freq=0,\n",
        "                                   write_graph=False)"
      ],
      "execution_count": 0,
      "outputs": []
    },
    {
      "cell_type": "markdown",
      "metadata": {
        "id": "j5AbgzV3G6Vn",
        "colab_type": "text"
      },
      "source": [
        "This callback reduces the learning-rate for the optimizer if the validation-loss has not improved since the last epoch (as indicated by patience=0). The learning-rate will be reduced by multiplying it with the given factor. We set a start learning-rate of 1e-3 above, so multiplying it by 0.1 gives a learning-rate of 1e-4. We don't want the learning-rate to go any lower than this."
      ]
    },
    {
      "cell_type": "code",
      "metadata": {
        "id": "wsm91CcCG6Vo",
        "colab_type": "code",
        "colab": {}
      },
      "source": [
        "callback_reduce_lr = ReduceLROnPlateau(monitor='val_loss',\n",
        "                                       factor=0.2,\n",
        "                                       min_lr=1e-4,\n",
        "                                       patience=0,\n",
        "                                       verbose=1)\n",
        "# factor in increased from 0.01 to 0.2"
      ],
      "execution_count": 0,
      "outputs": []
    },
    {
      "cell_type": "code",
      "metadata": {
        "id": "cxxTC7TiG6Vr",
        "colab_type": "code",
        "colab": {}
      },
      "source": [
        "callbacks = [callback_early_stopping,\n",
        "             callback_checkpoint,\n",
        "             callback_tensorboard,\n",
        "             callback_reduce_lr]"
      ],
      "execution_count": 0,
      "outputs": []
    },
    {
      "cell_type": "markdown",
      "metadata": {
        "id": "pTcsDphHG6Vy",
        "colab_type": "text"
      },
      "source": [
        "## Train the Recurrent Neural Network"
      ]
    },
    {
      "cell_type": "markdown",
      "metadata": {
        "id": "Rh7r0-GgG6Vz",
        "colab_type": "text"
      },
      "source": [
        "We can now train the neural network.\n",
        "\n",
        "Note that a single \"epoch\" does not correspond to a single processing of the training-set, because of how the batch-generator randomly selects sub-sequences from the training-set. Instead we have selected steps_per_epoch so that one \"epoch\" is processed in a few minutes.\n",
        "\n",
        "With these settings, each \"epoch\" took about 2.5 minutes to process on a GTX 1070. After 14 \"epochs\" the optimization was stopped because the validation-loss had not decreased for 5 \"epochs\". This optimization took about 35 minutes to finish.\n",
        "\n",
        "Also note that the loss sometimes becomes NaN (not-a-number). This is often resolved by restarting and running the Notebook again. But it may also be caused by your neural network architecture, learning-rate, batch-size, sequence-length, etc. in which case you may have to modify those settings."
      ]
    },
    {
      "cell_type": "code",
      "metadata": {
        "scrolled": true,
        "id": "VXH-IQZlG6Vz",
        "colab_type": "code",
        "outputId": "9df34fbe-9d4b-4f11-c01d-26c071ede142",
        "colab": {
          "base_uri": "https://localhost:8080/",
          "height": 1000
        }
      },
      "source": [
        "%%time\n",
        "model.fit_generator(generator=generator,\n",
        "                    epochs=20,\n",
        "                    steps_per_epoch=200,\n",
        "                    validation_data=validation_data,\n",
        "                    callbacks=callbacks,\n",
        "                    )"
      ],
      "execution_count": 305,
      "outputs": [
        {
          "output_type": "stream",
          "text": [
            "Epoch 1/20\n",
            "199/200 [============================>.] - ETA: 0s - loss: 0.0372 - acc: 0.9143Epoch 1/20\n",
            "  1/200 [..............................] - ETA: 24s - loss: 0.0211 - acc: 0.9300\n",
            "Epoch 00001: val_loss improved from inf to 0.02109, saving model to 23_checkpoint.keras\n",
            "200/200 [==============================] - 130s 650ms/step - loss: 0.0371 - acc: 0.9143 - val_loss: 0.0211 - val_acc: 0.9300\n",
            "Epoch 2/20\n",
            "199/200 [============================>.] - ETA: 0s - loss: 0.0207 - acc: 0.9161Epoch 1/20\n",
            "  1/200 [..............................] - ETA: 1s - loss: 0.0218 - acc: 0.9361\n",
            "Epoch 00002: val_loss did not improve from 0.02109\n",
            "200/200 [==============================] - 129s 644ms/step - loss: 0.0207 - acc: 0.9161 - val_loss: 0.0218 - val_acc: 0.9361\n",
            "Epoch 3/20\n",
            "199/200 [============================>.] - ETA: 0s - loss: 0.0204 - acc: 0.9195Epoch 1/20\n",
            "  1/200 [..............................] - ETA: 1s - loss: 0.0216 - acc: 0.9362\n",
            "Epoch 00003: val_loss did not improve from 0.02109\n",
            "200/200 [==============================] - 129s 643ms/step - loss: 0.0204 - acc: 0.9195 - val_loss: 0.0216 - val_acc: 0.9362\n",
            "Epoch 4/20\n",
            "199/200 [============================>.] - ETA: 0s - loss: 0.0201 - acc: 0.9192Epoch 1/20\n",
            "  1/200 [..............................] - ETA: 1s - loss: 0.0211 - acc: 0.9351\n",
            "Epoch 00004: val_loss improved from 0.02109 to 0.02105, saving model to 23_checkpoint.keras\n",
            "200/200 [==============================] - 129s 643ms/step - loss: 0.0201 - acc: 0.9193 - val_loss: 0.0211 - val_acc: 0.9351\n",
            "Epoch 5/20\n",
            "199/200 [============================>.] - ETA: 0s - loss: 0.0200 - acc: 0.9177Epoch 1/20\n",
            "  1/200 [..............................] - ETA: 1s - loss: 0.0220 - acc: 0.9349\n",
            "Epoch 00005: val_loss did not improve from 0.02105\n",
            "200/200 [==============================] - 129s 643ms/step - loss: 0.0200 - acc: 0.9178 - val_loss: 0.0220 - val_acc: 0.9349\n",
            "Epoch 6/20\n",
            "199/200 [============================>.] - ETA: 0s - loss: 0.0199 - acc: 0.9191Epoch 1/20\n",
            "  1/200 [..............................] - ETA: 1s - loss: 0.0202 - acc: 0.9346\n",
            "Epoch 00006: val_loss improved from 0.02105 to 0.02023, saving model to 23_checkpoint.keras\n",
            "200/200 [==============================] - 129s 644ms/step - loss: 0.0199 - acc: 0.9191 - val_loss: 0.0202 - val_acc: 0.9346\n",
            "Epoch 7/20\n",
            "199/200 [============================>.] - ETA: 0s - loss: 0.0200 - acc: 0.9188Epoch 1/20\n",
            "  1/200 [..............................] - ETA: 1s - loss: 0.0201 - acc: 0.9346\n",
            "Epoch 00007: val_loss improved from 0.02023 to 0.02005, saving model to 23_checkpoint.keras\n",
            "200/200 [==============================] - 129s 643ms/step - loss: 0.0200 - acc: 0.9188 - val_loss: 0.0201 - val_acc: 0.9346\n",
            "Epoch 8/20\n",
            "199/200 [============================>.] - ETA: 0s - loss: 0.0198 - acc: 0.9181Epoch 1/20\n",
            "  1/200 [..............................] - ETA: 1s - loss: 0.0203 - acc: 0.9350\n",
            "Epoch 00008: val_loss did not improve from 0.02005\n",
            "200/200 [==============================] - 129s 643ms/step - loss: 0.0198 - acc: 0.9180 - val_loss: 0.0203 - val_acc: 0.9350\n",
            "Epoch 9/20\n",
            "199/200 [============================>.] - ETA: 0s - loss: 0.0197 - acc: 0.9180Epoch 1/20\n",
            "  1/200 [..............................] - ETA: 1s - loss: 0.0209 - acc: 0.9357\n",
            "Epoch 00009: val_loss did not improve from 0.02005\n",
            "200/200 [==============================] - 129s 643ms/step - loss: 0.0197 - acc: 0.9180 - val_loss: 0.0209 - val_acc: 0.9357\n",
            "Epoch 10/20\n",
            "199/200 [============================>.] - ETA: 0s - loss: 0.0197 - acc: 0.9181Epoch 1/20\n",
            "  1/200 [..............................] - ETA: 1s - loss: 0.0210 - acc: 0.9362\n",
            "Epoch 00010: val_loss did not improve from 0.02005\n",
            "200/200 [==============================] - 129s 643ms/step - loss: 0.0197 - acc: 0.9181 - val_loss: 0.0210 - val_acc: 0.9362\n",
            "Epoch 11/20\n",
            "199/200 [============================>.] - ETA: 0s - loss: 0.0197 - acc: 0.9173Epoch 1/20\n",
            "  1/200 [..............................] - ETA: 1s - loss: 0.0198 - acc: 0.9363\n",
            "Epoch 00011: val_loss improved from 0.02005 to 0.01985, saving model to 23_checkpoint.keras\n",
            "200/200 [==============================] - 129s 643ms/step - loss: 0.0197 - acc: 0.9173 - val_loss: 0.0198 - val_acc: 0.9363\n",
            "Epoch 12/20\n",
            "199/200 [============================>.] - ETA: 0s - loss: 0.0196 - acc: 0.9164Epoch 1/20\n",
            "  1/200 [..............................] - ETA: 1s - loss: 0.0196 - acc: 0.9364\n",
            "Epoch 00012: val_loss improved from 0.01985 to 0.01965, saving model to 23_checkpoint.keras\n",
            "200/200 [==============================] - 129s 643ms/step - loss: 0.0196 - acc: 0.9164 - val_loss: 0.0196 - val_acc: 0.9364\n",
            "Epoch 13/20\n",
            "199/200 [============================>.] - ETA: 0s - loss: 0.0197 - acc: 0.9172Epoch 1/20\n",
            "  1/200 [..............................] - ETA: 1s - loss: 0.0197 - acc: 0.9368\n",
            "Epoch 00013: val_loss did not improve from 0.01965\n",
            "200/200 [==============================] - 129s 643ms/step - loss: 0.0197 - acc: 0.9171 - val_loss: 0.0197 - val_acc: 0.9368\n",
            "Epoch 14/20\n",
            "199/200 [============================>.] - ETA: 0s - loss: 0.0196 - acc: 0.9170Epoch 1/20\n",
            "  1/200 [..............................] - ETA: 1s - loss: 0.0202 - acc: 0.9370\n",
            "Epoch 00014: val_loss did not improve from 0.01965\n",
            "200/200 [==============================] - 129s 643ms/step - loss: 0.0196 - acc: 0.9170 - val_loss: 0.0202 - val_acc: 0.9370\n",
            "Epoch 15/20\n",
            "199/200 [============================>.] - ETA: 0s - loss: 0.0196 - acc: 0.9172Epoch 1/20\n",
            "  1/200 [..............................] - ETA: 1s - loss: 0.0203 - acc: 0.9368\n",
            "Epoch 00015: val_loss did not improve from 0.01965\n",
            "200/200 [==============================] - 129s 643ms/step - loss: 0.0195 - acc: 0.9171 - val_loss: 0.0203 - val_acc: 0.9368\n",
            "Epoch 16/20\n",
            "199/200 [============================>.] - ETA: 0s - loss: 0.0195 - acc: 0.9178Epoch 1/20\n",
            "  1/200 [..............................] - ETA: 1s - loss: 0.0207 - acc: 0.9368\n",
            "Epoch 00016: val_loss did not improve from 0.01965\n",
            "200/200 [==============================] - 129s 643ms/step - loss: 0.0195 - acc: 0.9178 - val_loss: 0.0207 - val_acc: 0.9368\n",
            "Epoch 17/20\n",
            "199/200 [============================>.] - ETA: 0s - loss: 0.0195 - acc: 0.9179Epoch 1/20\n",
            "  1/200 [..............................] - ETA: 1s - loss: 0.0210 - acc: 0.9365\n",
            "Epoch 00017: val_loss did not improve from 0.01965\n",
            "200/200 [==============================] - 129s 643ms/step - loss: 0.0195 - acc: 0.9179 - val_loss: 0.0210 - val_acc: 0.9365\n",
            "Epoch 18/20\n",
            "199/200 [============================>.] - ETA: 0s - loss: 0.0195 - acc: 0.9177Epoch 1/20\n",
            "  1/200 [..............................] - ETA: 1s - loss: 0.0210 - acc: 0.9366\n",
            "Epoch 00018: val_loss did not improve from 0.01965\n",
            "200/200 [==============================] - 129s 643ms/step - loss: 0.0195 - acc: 0.9178 - val_loss: 0.0210 - val_acc: 0.9366\n",
            "Epoch 19/20\n",
            "199/200 [============================>.] - ETA: 0s - loss: 0.0195 - acc: 0.9177Epoch 1/20\n",
            "  1/200 [..............................] - ETA: 1s - loss: 0.0218 - acc: 0.9369\n",
            "Epoch 00019: val_loss did not improve from 0.01965\n",
            "200/200 [==============================] - 129s 644ms/step - loss: 0.0195 - acc: 0.9178 - val_loss: 0.0218 - val_acc: 0.9369\n",
            "Epoch 20/20\n",
            "199/200 [============================>.] - ETA: 0s - loss: 0.0196 - acc: 0.9174Epoch 1/20\n",
            "  1/200 [..............................] - ETA: 1s - loss: 0.0214 - acc: 0.9369\n",
            "Epoch 00020: val_loss did not improve from 0.01965\n",
            "200/200 [==============================] - 129s 643ms/step - loss: 0.0196 - acc: 0.9174 - val_loss: 0.0214 - val_acc: 0.9369\n",
            "CPU times: user 28min 12s, sys: 13min 36s, total: 41min 49s\n",
            "Wall time: 42min 54s\n"
          ],
          "name": "stdout"
        },
        {
          "output_type": "execute_result",
          "data": {
            "text/plain": [
              "<tensorflow.python.keras.callbacks.History at 0x7fda09baef28>"
            ]
          },
          "metadata": {
            "tags": []
          },
          "execution_count": 305
        }
      ]
    },
    {
      "cell_type": "code",
      "metadata": {
        "id": "W7En6RY7G6V3",
        "colab_type": "code",
        "colab": {}
      },
      "source": [
        "try:\n",
        "    model.load_weights(path_checkpoint)\n",
        "except Exception as error:\n",
        "    print(\"Error trying to load checkpoint.\")\n",
        "    print(error)"
      ],
      "execution_count": 0,
      "outputs": []
    },
    {
      "cell_type": "markdown",
      "metadata": {
        "id": "86BSK4IMG6V5",
        "colab_type": "text"
      },
      "source": [
        "## Performance Test"
      ]
    },
    {
      "cell_type": "markdown",
      "metadata": {
        "id": "mxIzmVf4G6V6",
        "colab_type": "text"
      },
      "source": [
        "We can now evaluate the model's performance on the test-set. This function expects a batch of data, but we will just use one long time-series for the test-set, so we just expand the array-dimensionality to create a batch with that one sequence."
      ]
    },
    {
      "cell_type": "code",
      "metadata": {
        "id": "ky5jtTqnG6V7",
        "colab_type": "code",
        "colab": {
          "base_uri": "https://localhost:8080/",
          "height": 35
        },
        "outputId": "38336e94-7b36-4493-f4a9-3f189d16f915"
      },
      "source": [
        "result = model.evaluate(x=np.expand_dims(x_test_scaled, axis=0),\n",
        "                        y=np.expand_dims(y_test_scaled, axis=0))"
      ],
      "execution_count": 307,
      "outputs": [
        {
          "output_type": "stream",
          "text": [
            "\r1/1 [==============================] - 0s 9ms/sample - loss: 0.0196 - acc: 0.9364\n"
          ],
          "name": "stdout"
        }
      ]
    },
    {
      "cell_type": "code",
      "metadata": {
        "id": "I6aUqRYiG6V_",
        "colab_type": "code",
        "outputId": "ff8913f9-bfe1-4a0e-aaa4-c31a4a1de934",
        "colab": {
          "base_uri": "https://localhost:8080/",
          "height": 35
        }
      },
      "source": [
        "print(\"loss (test-set):\", result)"
      ],
      "execution_count": 308,
      "outputs": [
        {
          "output_type": "stream",
          "text": [
            "loss (test-set): [0.019649410620331764, 0.9363691]\n"
          ],
          "name": "stdout"
        }
      ]
    },
    {
      "cell_type": "markdown",
      "metadata": {
        "id": "N0x2EVWTG6WC",
        "colab_type": "text"
      },
      "source": [
        "## Generate Predictions"
      ]
    },
    {
      "cell_type": "code",
      "metadata": {
        "id": "gtTRTwI8G6WE",
        "colab_type": "code",
        "colab": {}
      },
      "source": [
        "def plot_comparison(start_idx, length=100, train=True):\n",
        "    \"\"\"\n",
        "    Plot the predicted and true output-signals.\n",
        "    \n",
        "    :param start_idx: Start-index for the time-series.\n",
        "    :param length: Sequence-length to process and plot.\n",
        "    :param train: Boolean whether to use training- or test-set.\n",
        "    \"\"\"\n",
        "    \n",
        "    if train:\n",
        "        # Use training-data.\n",
        "        x = x_train_scaled\n",
        "        y_true = y_train\n",
        "    else:\n",
        "        # Use test-data.\n",
        "        x = x_test_scaled\n",
        "        y_true = y_test\n",
        "    \n",
        "    # End-index for the sequences.\n",
        "    end_idx = start_idx + length\n",
        "    \n",
        "    # Select the sequences from the given start-index and\n",
        "    # of the given length.\n",
        "    x = x[start_idx:end_idx]\n",
        "    y_true = y_true[start_idx:end_idx]\n",
        "    \n",
        "    # Input-signals for the model.\n",
        "    x = np.expand_dims(x, axis=0)\n",
        "\n",
        "    # Use the model to predict the output-signals.\n",
        "    y_pred = model.predict(x)\n",
        "    \n",
        "    # The output of the model is between 0 and 1.\n",
        "    # Do an inverse map to get it back to the scale\n",
        "    # of the original data-set.\n",
        "    y_pred_rescaled = y_scaler.inverse_transform(y_pred[0])\n",
        "    \n",
        "    # For each output-signal.\n",
        "    for signal in range(len(target_names)):\n",
        "        # Get the output-signal predicted by the model.\n",
        "        signal_pred = y_pred_rescaled[:, signal]\n",
        "        \n",
        "        # Get the true output-signal from the data-set.\n",
        "        signal_true = y_true[:, signal]\n",
        "\n",
        "        # Make the plotting-canvas bigger.\n",
        "        plt.figure(figsize=(15,5))\n",
        "        \n",
        "        # Plot and compare the two signals.\n",
        "        plt.plot(signal_true, label='true')\n",
        "        plt.plot(signal_pred, label='pred')\n",
        "        \n",
        "        # Plot grey box for warmup-period.\n",
        "        p = plt.axvspan(0, warmup_steps, facecolor='black', alpha=0.15)\n",
        "        \n",
        "        # Plot labels etc.\n",
        "        plt.ylabel(target_names[signal])\n",
        "        plt.legend()\n",
        "        plt.show()"
      ],
      "execution_count": 0,
      "outputs": []
    },
    {
      "cell_type": "code",
      "metadata": {
        "id": "4t8xHW4vG6WG",
        "colab_type": "code",
        "colab": {
          "base_uri": "https://localhost:8080/",
          "height": 623
        },
        "outputId": "c2130544-7ed5-453b-f1f8-d507a65658b4"
      },
      "source": [
        "# plot_comparison(start_idx=100000, length=1000), train=True)\n",
        "\n",
        "plot_comparison(start_idx=1050, length=10000, train=True)"
      ],
      "execution_count": 310,
      "outputs": [
        {
          "output_type": "display_data",
          "data": {
            "image/png": "[encoded data removed]",
            "text/plain": [
              "<Figure size 1080x360 with 1 Axes>"
            ]
          },
          "metadata": {
            "tags": []
          }
        },
        {
          "output_type": "display_data",
          "data": {
            "image/png": "[encoded data removed]",
            "text/plain": [
              "<Figure size 1080x360 with 1 Axes>"
            ]
          },
          "metadata": {
            "tags": []
          }
        }
      ]
    },
    {
      "cell_type": "code",
      "metadata": {
        "id": "pPo9G4tpG6WL",
        "colab_type": "code",
        "colab": {
          "base_uri": "https://localhost:8080/",
          "height": 623
        },
        "outputId": "6f87dab9-b333-4ef2-9dd0-0842f3100f0b"
      },
      "source": [
        "plot_comparison(start_idx=20000, length=1000, train=False)"
      ],
      "execution_count": 311,
      "outputs": [
        {
          "output_type": "display_data",
          "data": {
            "image/png": "[encoded data removed]",
            "text/plain": [
              "<Figure size 1080x360 with 1 Axes>"
            ]
          },
          "metadata": {
            "tags": []
          }
        },
        {
          "output_type": "display_data",
          "data": {
            "image/png": "[encoded data removed]",
            "text/plain": [
              "<Figure size 1080x360 with 1 Axes>"
            ]
          },
          "metadata": {
            "tags": []
          }
        }
      ]
    },
    {
      "cell_type": "code",
      "metadata": {
        "id": "kEPCJxp5Mi4A",
        "colab_type": "code",
        "colab": {}
      },
      "source": [
        ""
      ],
      "execution_count": 0,
      "outputs": []
    }
  ]
}